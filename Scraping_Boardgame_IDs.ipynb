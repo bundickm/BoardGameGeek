{
  "nbformat": 4,
  "nbformat_minor": 0,
  "metadata": {
    "colab": {
      "name": "Scraping Boardgame IDs.ipynb",
      "version": "0.3.2",
      "provenance": [],
      "include_colab_link": true
    },
    "kernelspec": {
      "name": "python3",
      "display_name": "Python 3"
    }
  },
  "cells": [
    {
      "cell_type": "markdown",
      "metadata": {
        "id": "view-in-github",
        "colab_type": "text"
      },
      "source": [
        "<a href=\"https://colab.research.google.com/github/bundickm/BoardGameGeek/blob/master/Scraping_Boardgame_IDs.ipynb\" target=\"_parent\"><img src=\"https://colab.research.google.com/assets/colab-badge.svg\" alt=\"Open In Colab\"/></a>"
      ]
    },
    {
      "metadata": {
        "id": "KvhimqPhfq0N",
        "colab_type": "code",
        "colab": {}
      },
      "cell_type": "code",
      "source": [
        "import requests\n",
        "import bs4"
      ],
      "execution_count": 0,
      "outputs": []
    },
    {
      "metadata": {
        "id": "J_Y1BviouIim",
        "colab_type": "code",
        "colab": {}
      },
      "cell_type": "code",
      "source": [
        "def get_id(boardgame):\n",
        "  if boardgame[19:20] == 'e':\n",
        "    return -1\n",
        "  boardgame = boardgame[20:26]\n",
        "  while boardgame.isdigit() == False:\n",
        "    boardgame = boardgame[0:len(boardgame)-1]\n",
        "  return boardgame"
      ],
      "execution_count": 0,
      "outputs": []
    },
    {
      "metadata": {
        "id": "R_1KxU4JowpA",
        "colab_type": "code",
        "colab": {}
      },
      "cell_type": "code",
      "source": [
        "below_30_votes = False\n",
        "game_ids = []\n",
        "for i in range(1,1064):\n",
        "  url = ('https://boardgamegeek.com/browse/boardgame/page/'+str(i)+'?sort=numvoters&sortdir=desc')\n",
        "\n",
        "  result = requests.get(url)\n",
        "  soup = bs4.BeautifulSoup(result.text)\n",
        "\n",
        "  if (i == 1):\n",
        "    boardgames = soup.find_all('table')[4].find_all('a', href=True, class_=False)\n",
        "    num_votes = soup.find_all('table')[4].find_all('td', class_=\"collection_bggrating\")\n",
        "\n",
        "    for j in range(12,len(boardgames)-6,3):\n",
        "      if (int(num_votes[j-10].text.strip()) >= 30):\n",
        "        game_ids.append(get_id(str(boardgames[j])))\n",
        "      else:\n",
        "        below_30_votes = True\n",
        "        break\n",
        "  elif (i == 3):\n",
        "    boardgames = soup.find_all('table')[3].find_all('a', href=True, class_=False)\n",
        "    num_votes = soup.find_all('table')[3].find_all('td', class_=\"collection_bggrating\")\n",
        "\n",
        "    for j in range(6,len(boardgames),3):\n",
        "      if (int(num_votes[j-4].text.strip()) >= 30):\n",
        "        game_ids.append(get_id(str(boardgames[j])))\n",
        "      else:\n",
        "        below_30_votes = True\n",
        "        break\n",
        "  else:\n",
        "    boardgames = soup.find_all('table')[4].find_all('a', href=True, class_=False)\n",
        "    num_votes = soup.find_all('table')[4].find_all('td', class_=\"collection_bggrating\")\n",
        "\n",
        "    for j in range(13,len(boardgames)-9,3):\n",
        "      if (int(num_votes[j-11].text.strip()) >= 30):\n",
        "        game_ids.append(get_id(str(boardgames[j])))\n",
        "      else:\n",
        "        below_30_votes = True\n",
        "        break\n",
        "  if below_30_votes:\n",
        "    break"
      ],
      "execution_count": 0,
      "outputs": []
    },
    {
      "metadata": {
        "id": "2rkVw0lZxzvl",
        "colab_type": "code",
        "outputId": "00d8ef4e-dfa3-469c-a124-f2a0a4fcadee",
        "colab": {
          "base_uri": "https://localhost:8080/",
          "height": 35
        }
      },
      "cell_type": "code",
      "source": [
        "print(len(game_ids))"
      ],
      "execution_count": 0,
      "outputs": [
        {
          "output_type": "stream",
          "text": [
            "22846\n"
          ],
          "name": "stdout"
        }
      ]
    },
    {
      "metadata": {
        "id": "WU_vAXkahoJh",
        "colab_type": "code",
        "outputId": "69d030a4-5d8c-437e-dd77-417c20aad0cf",
        "colab": {
          "base_uri": "https://localhost:8080/",
          "height": 35
        }
      },
      "cell_type": "code",
      "source": [
        "#remove the -1's from expansions\n",
        "while -1 in game_ids: \n",
        "  game_ids.remove(-1)\n",
        "print(len(game_ids))"
      ],
      "execution_count": 0,
      "outputs": [
        {
          "output_type": "stream",
          "text": [
            "17177\n"
          ],
          "name": "stdout"
        }
      ]
    },
    {
      "metadata": {
        "id": "lvqLsAbh8doh",
        "colab_type": "code",
        "colab": {}
      },
      "cell_type": "code",
      "source": [
        "#Save it\n",
        "with open('BGG_IDs.csv', 'w') as f:\n",
        "    for item in game_ids:\n",
        "        f.write(\"%s\\n\" % item)"
      ],
      "execution_count": 0,
      "outputs": []
    },
    {
      "metadata": {
        "id": "uiM7apjdAhUJ",
        "colab_type": "code",
        "colab": {}
      },
      "cell_type": "code",
      "source": [
        ""
      ],
      "execution_count": 0,
      "outputs": []
    }
  ]
}